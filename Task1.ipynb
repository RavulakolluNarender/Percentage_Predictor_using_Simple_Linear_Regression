{
 "cells": [
  {
   "cell_type": "markdown",
   "id": "58c784e1",
   "metadata": {},
   "source": [
    "# THE SPARK FOUNDATION\n",
    "\n",
    "## TASK 1 : Prediction using Supervised ML\n",
    "\n",
    "### Author: Ravulakollu Narender"
   ]
  },
  {
   "cell_type": "markdown",
   "id": "d2dc4565",
   "metadata": {},
   "source": [
    "<b> IMPORTING THE LIBRARIES </b>"
   ]
  },
  {
   "cell_type": "code",
   "execution_count": 1,
   "id": "8dd18bd0",
   "metadata": {},
   "outputs": [],
   "source": [
    "import pandas as pd\n",
    "import numpy as np\n",
    "import seaborn as sns\n",
    "import matplotlib.pyplot as plt\n",
    "from sklearn.linear_model import LinearRegression\n",
    "from sklearn.model_selection import train_test_split\n",
    "from sklearn.metrics import mean_absolute_error"
   ]
  },
  {
   "cell_type": "code",
   "execution_count": 2,
   "id": "8e1c161a",
   "metadata": {},
   "outputs": [
    {
     "data": {
      "text/html": [
       "<div>\n",
       "<style scoped>\n",
       "    .dataframe tbody tr th:only-of-type {\n",
       "        vertical-align: middle;\n",
       "    }\n",
       "\n",
       "    .dataframe tbody tr th {\n",
       "        vertical-align: top;\n",
       "    }\n",
       "\n",
       "    .dataframe thead th {\n",
       "        text-align: right;\n",
       "    }\n",
       "</style>\n",
       "<table border=\"1\" class=\"dataframe\">\n",
       "  <thead>\n",
       "    <tr style=\"text-align: right;\">\n",
       "      <th></th>\n",
       "      <th>Hours</th>\n",
       "      <th>Scores</th>\n",
       "    </tr>\n",
       "  </thead>\n",
       "  <tbody>\n",
       "    <tr>\n",
       "      <th>0</th>\n",
       "      <td>2.5</td>\n",
       "      <td>21</td>\n",
       "    </tr>\n",
       "    <tr>\n",
       "      <th>1</th>\n",
       "      <td>5.1</td>\n",
       "      <td>47</td>\n",
       "    </tr>\n",
       "    <tr>\n",
       "      <th>2</th>\n",
       "      <td>3.2</td>\n",
       "      <td>27</td>\n",
       "    </tr>\n",
       "    <tr>\n",
       "      <th>3</th>\n",
       "      <td>8.5</td>\n",
       "      <td>75</td>\n",
       "    </tr>\n",
       "    <tr>\n",
       "      <th>4</th>\n",
       "      <td>3.5</td>\n",
       "      <td>30</td>\n",
       "    </tr>\n",
       "    <tr>\n",
       "      <th>5</th>\n",
       "      <td>1.5</td>\n",
       "      <td>20</td>\n",
       "    </tr>\n",
       "    <tr>\n",
       "      <th>6</th>\n",
       "      <td>9.2</td>\n",
       "      <td>88</td>\n",
       "    </tr>\n",
       "    <tr>\n",
       "      <th>7</th>\n",
       "      <td>5.5</td>\n",
       "      <td>60</td>\n",
       "    </tr>\n",
       "    <tr>\n",
       "      <th>8</th>\n",
       "      <td>8.3</td>\n",
       "      <td>81</td>\n",
       "    </tr>\n",
       "    <tr>\n",
       "      <th>9</th>\n",
       "      <td>2.7</td>\n",
       "      <td>25</td>\n",
       "    </tr>\n",
       "    <tr>\n",
       "      <th>10</th>\n",
       "      <td>7.7</td>\n",
       "      <td>85</td>\n",
       "    </tr>\n",
       "    <tr>\n",
       "      <th>11</th>\n",
       "      <td>5.9</td>\n",
       "      <td>62</td>\n",
       "    </tr>\n",
       "    <tr>\n",
       "      <th>12</th>\n",
       "      <td>4.5</td>\n",
       "      <td>41</td>\n",
       "    </tr>\n",
       "    <tr>\n",
       "      <th>13</th>\n",
       "      <td>3.3</td>\n",
       "      <td>42</td>\n",
       "    </tr>\n",
       "    <tr>\n",
       "      <th>14</th>\n",
       "      <td>1.1</td>\n",
       "      <td>17</td>\n",
       "    </tr>\n",
       "    <tr>\n",
       "      <th>15</th>\n",
       "      <td>8.9</td>\n",
       "      <td>95</td>\n",
       "    </tr>\n",
       "    <tr>\n",
       "      <th>16</th>\n",
       "      <td>2.5</td>\n",
       "      <td>30</td>\n",
       "    </tr>\n",
       "    <tr>\n",
       "      <th>17</th>\n",
       "      <td>1.9</td>\n",
       "      <td>24</td>\n",
       "    </tr>\n",
       "    <tr>\n",
       "      <th>18</th>\n",
       "      <td>6.1</td>\n",
       "      <td>67</td>\n",
       "    </tr>\n",
       "    <tr>\n",
       "      <th>19</th>\n",
       "      <td>7.4</td>\n",
       "      <td>69</td>\n",
       "    </tr>\n",
       "    <tr>\n",
       "      <th>20</th>\n",
       "      <td>2.7</td>\n",
       "      <td>30</td>\n",
       "    </tr>\n",
       "    <tr>\n",
       "      <th>21</th>\n",
       "      <td>4.8</td>\n",
       "      <td>54</td>\n",
       "    </tr>\n",
       "    <tr>\n",
       "      <th>22</th>\n",
       "      <td>3.8</td>\n",
       "      <td>35</td>\n",
       "    </tr>\n",
       "    <tr>\n",
       "      <th>23</th>\n",
       "      <td>6.9</td>\n",
       "      <td>76</td>\n",
       "    </tr>\n",
       "    <tr>\n",
       "      <th>24</th>\n",
       "      <td>7.8</td>\n",
       "      <td>86</td>\n",
       "    </tr>\n",
       "  </tbody>\n",
       "</table>\n",
       "</div>"
      ],
      "text/plain": [
       "    Hours  Scores\n",
       "0     2.5      21\n",
       "1     5.1      47\n",
       "2     3.2      27\n",
       "3     8.5      75\n",
       "4     3.5      30\n",
       "5     1.5      20\n",
       "6     9.2      88\n",
       "7     5.5      60\n",
       "8     8.3      81\n",
       "9     2.7      25\n",
       "10    7.7      85\n",
       "11    5.9      62\n",
       "12    4.5      41\n",
       "13    3.3      42\n",
       "14    1.1      17\n",
       "15    8.9      95\n",
       "16    2.5      30\n",
       "17    1.9      24\n",
       "18    6.1      67\n",
       "19    7.4      69\n",
       "20    2.7      30\n",
       "21    4.8      54\n",
       "22    3.8      35\n",
       "23    6.9      76\n",
       "24    7.8      86"
      ]
     },
     "execution_count": 2,
     "metadata": {},
     "output_type": "execute_result"
    }
   ],
   "source": [
    "dataset = pd.read_csv(\"https://raw.githubusercontent.com/AdiPersonalWorks/Random/master/student_scores%20-%20student_scores.csv\")\n",
    "dataset"
   ]
  },
  {
   "cell_type": "markdown",
   "id": "f22ecb1c",
   "metadata": {},
   "source": [
    "<b> CALCULATING ALL THE CONSTRAINTS </b>"
   ]
  },
  {
   "cell_type": "code",
   "execution_count": 3,
   "id": "033de491",
   "metadata": {},
   "outputs": [
    {
     "data": {
      "text/html": [
       "<div>\n",
       "<style scoped>\n",
       "    .dataframe tbody tr th:only-of-type {\n",
       "        vertical-align: middle;\n",
       "    }\n",
       "\n",
       "    .dataframe tbody tr th {\n",
       "        vertical-align: top;\n",
       "    }\n",
       "\n",
       "    .dataframe thead th {\n",
       "        text-align: right;\n",
       "    }\n",
       "</style>\n",
       "<table border=\"1\" class=\"dataframe\">\n",
       "  <thead>\n",
       "    <tr style=\"text-align: right;\">\n",
       "      <th></th>\n",
       "      <th>Hours</th>\n",
       "      <th>Scores</th>\n",
       "    </tr>\n",
       "  </thead>\n",
       "  <tbody>\n",
       "    <tr>\n",
       "      <th>count</th>\n",
       "      <td>25.000000</td>\n",
       "      <td>25.000000</td>\n",
       "    </tr>\n",
       "    <tr>\n",
       "      <th>mean</th>\n",
       "      <td>5.012000</td>\n",
       "      <td>51.480000</td>\n",
       "    </tr>\n",
       "    <tr>\n",
       "      <th>std</th>\n",
       "      <td>2.525094</td>\n",
       "      <td>25.286887</td>\n",
       "    </tr>\n",
       "    <tr>\n",
       "      <th>min</th>\n",
       "      <td>1.100000</td>\n",
       "      <td>17.000000</td>\n",
       "    </tr>\n",
       "    <tr>\n",
       "      <th>25%</th>\n",
       "      <td>2.700000</td>\n",
       "      <td>30.000000</td>\n",
       "    </tr>\n",
       "    <tr>\n",
       "      <th>50%</th>\n",
       "      <td>4.800000</td>\n",
       "      <td>47.000000</td>\n",
       "    </tr>\n",
       "    <tr>\n",
       "      <th>75%</th>\n",
       "      <td>7.400000</td>\n",
       "      <td>75.000000</td>\n",
       "    </tr>\n",
       "    <tr>\n",
       "      <th>max</th>\n",
       "      <td>9.200000</td>\n",
       "      <td>95.000000</td>\n",
       "    </tr>\n",
       "  </tbody>\n",
       "</table>\n",
       "</div>"
      ],
      "text/plain": [
       "           Hours     Scores\n",
       "count  25.000000  25.000000\n",
       "mean    5.012000  51.480000\n",
       "std     2.525094  25.286887\n",
       "min     1.100000  17.000000\n",
       "25%     2.700000  30.000000\n",
       "50%     4.800000  47.000000\n",
       "75%     7.400000  75.000000\n",
       "max     9.200000  95.000000"
      ]
     },
     "execution_count": 3,
     "metadata": {},
     "output_type": "execute_result"
    }
   ],
   "source": [
    "dataset.describe(include=\"all\")"
   ]
  },
  {
   "cell_type": "markdown",
   "id": "5ee9e5c0",
   "metadata": {},
   "source": [
    "<b> DISPLAYING ALL THE COLUMNS AND THEIR DATA TYPES </b>"
   ]
  },
  {
   "cell_type": "code",
   "execution_count": 4,
   "id": "2d8cb295",
   "metadata": {},
   "outputs": [
    {
     "name": "stdout",
     "output_type": "stream",
     "text": [
      "<class 'pandas.core.frame.DataFrame'>\n",
      "RangeIndex: 25 entries, 0 to 24\n",
      "Data columns (total 2 columns):\n",
      " #   Column  Non-Null Count  Dtype  \n",
      "---  ------  --------------  -----  \n",
      " 0   Hours   25 non-null     float64\n",
      " 1   Scores  25 non-null     int64  \n",
      "dtypes: float64(1), int64(1)\n",
      "memory usage: 528.0 bytes\n"
     ]
    }
   ],
   "source": [
    "dataset.info()"
   ]
  },
  {
   "cell_type": "markdown",
   "id": "9343dd2f",
   "metadata": {},
   "source": [
    "<b> CHECKING IF THERE EXISTS ANY NULL VALUE </b>"
   ]
  },
  {
   "cell_type": "code",
   "execution_count": 5,
   "id": "4f63afdf",
   "metadata": {},
   "outputs": [
    {
     "data": {
      "text/plain": [
       "False"
      ]
     },
     "execution_count": 5,
     "metadata": {},
     "output_type": "execute_result"
    }
   ],
   "source": [
    "dataset.isnull == True"
   ]
  },
  {
   "cell_type": "markdown",
   "id": "826519c1",
   "metadata": {},
   "source": [
    "<b> AS THE DATASET HAS NO NULL VALUES, NOW WE CAN VISUALIZE THE DATA </b>"
   ]
  },
  {
   "cell_type": "code",
   "execution_count": 6,
   "id": "0ab6091f",
   "metadata": {},
   "outputs": [
    {
     "data": {
      "text/plain": [
       "Text(0.5, 0, 'Study Hours')"
      ]
     },
     "execution_count": 6,
     "metadata": {},
     "output_type": "execute_result"
    },
    {
     "data": {
      "image/png": "[encoded data removed]",
      "text/plain": [
       "<Figure size 432x288 with 1 Axes>"
      ]
     },
     "metadata": {},
     "output_type": "display_data"
    }
   ],
   "source": [
    "sns.set_style('whitegrid')\n",
    "sns.scatterplot(y= dataset['Scores'], x= dataset['Hours'])\n",
    "plt.title('Marks Vs Study Hours', size=25,color=\"brown\")\n",
    "plt.ylabel('Percentage of Marks', size=15,color=\"red\")\n",
    "plt.xlabel('Study Hours', size=15,color=\"blue\")"
   ]
  },
  {
   "cell_type": "markdown",
   "id": "d4996b66",
   "metadata": {},
   "source": [
    "<b> HERE, WE CAN SEE THAT THERE IS A CORRELATION BETWEEN \"PERCENTAGE OF MARKS\" AND \"STUDY HOURS\"\n",
    "\n",
    "TO VERIFY THE SAME, LETS PLOT A REGRESSION LINE TO THE ABOVE GRAPH </b>"
   ]
  },
  {
   "cell_type": "code",
   "execution_count": 7,
   "id": "2ee1b8c2",
   "metadata": {},
   "outputs": [
    {
     "data": {
      "image/png": "[encoded data removed]",
      "text/plain": [
       "<Figure size 432x288 with 1 Axes>"
      ]
     },
     "metadata": {},
     "output_type": "display_data"
    },
    {
     "name": "stdout",
     "output_type": "stream",
     "text": [
      "           Hours    Scores\n",
      "Hours   1.000000  0.976191\n",
      "Scores  0.976191  1.000000\n"
     ]
    }
   ],
   "source": [
    "sns.regplot(x= dataset['Hours'], y= dataset['Scores'])\n",
    "plt.title('Regression Plot', size=25,color=\"brown\")\n",
    "plt.ylabel('Percentage of Marks', size=15,color=\"red\")\n",
    "plt.xlabel('Study Hours', size=15,color=\"blue\")\n",
    "plt.show()\n",
    "print(dataset.corr())"
   ]
  },
  {
   "cell_type": "markdown",
   "id": "10d040a5",
   "metadata": {},
   "source": [
    "<B> FROM THE ABOVE GRAPH WE HAVE VERIFIED THAT THE VARIABLES ARE POSITIVELY CORRELATED </B>"
   ]
  },
  {
   "cell_type": "markdown",
   "id": "b6f5a85a",
   "metadata": {},
   "source": [
    "## MODEL TRAINING"
   ]
  },
  {
   "cell_type": "markdown",
   "id": "a33cd5b8",
   "metadata": {},
   "source": [
    "<b> FIRSTLY, WE WILL DEFINE VARIABLES A & B FROM THE DATASET AND THEN SPLIT THE DATASET INTO TWO PARTS. </b>"
   ]
  },
  {
   "cell_type": "code",
   "execution_count": 8,
   "id": "8f859958",
   "metadata": {},
   "outputs": [],
   "source": [
    "# Define variables A and B from the Dataset\n",
    "A = dataset.iloc[:, :-1].values\n",
    "B = dataset.iloc[:, 1].values\n",
    "\n",
    "# Split the Dataset into two parts\n",
    "train_A, val_A, train_B, val_B = train_test_split(A, B, random_state = 0)"
   ]
  },
  {
   "cell_type": "markdown",
   "id": "1de116e1",
   "metadata": {},
   "source": [
    "<b> SECONDLY, WE WILL BE DOING DATA FITTING IN THE MODEL </b>"
   ]
  },
  {
   "cell_type": "code",
   "execution_count": 9,
   "id": "7012adb0",
   "metadata": {},
   "outputs": [
    {
     "name": "stdout",
     "output_type": "stream",
     "text": [
      "MODEL IS TRAINED SUCCESSFULLY!\n"
     ]
    }
   ],
   "source": [
    "var_regression = LinearRegression()\n",
    "var_regression.fit(train_A, train_B)\n",
    "print(\"MODEL IS TRAINED SUCCESSFULLY!\")"
   ]
  },
  {
   "cell_type": "markdown",
   "id": "893ee084",
   "metadata": {},
   "source": [
    "<b> NOW WE WILL MOVE ON TO PREDICTION OF THE PERCENTAGE OF THE MARKS. </b>"
   ]
  },
  {
   "cell_type": "code",
   "execution_count": 10,
   "id": "c80bc0ac",
   "metadata": {},
   "outputs": [
    {
     "data": {
      "text/html": [
       "<div>\n",
       "<style scoped>\n",
       "    .dataframe tbody tr th:only-of-type {\n",
       "        vertical-align: middle;\n",
       "    }\n",
       "\n",
       "    .dataframe tbody tr th {\n",
       "        vertical-align: top;\n",
       "    }\n",
       "\n",
       "    .dataframe thead th {\n",
       "        text-align: right;\n",
       "    }\n",
       "</style>\n",
       "<table border=\"1\" class=\"dataframe\">\n",
       "  <thead>\n",
       "    <tr style=\"text-align: right;\">\n",
       "      <th></th>\n",
       "      <th>Study Hours</th>\n",
       "      <th>Predicted Marks</th>\n",
       "    </tr>\n",
       "  </thead>\n",
       "  <tbody>\n",
       "    <tr>\n",
       "      <th>0</th>\n",
       "      <td>1.5</td>\n",
       "      <td>16.844722</td>\n",
       "    </tr>\n",
       "    <tr>\n",
       "      <th>1</th>\n",
       "      <td>3.2</td>\n",
       "      <td>33.745575</td>\n",
       "    </tr>\n",
       "    <tr>\n",
       "      <th>2</th>\n",
       "      <td>7.4</td>\n",
       "      <td>75.500624</td>\n",
       "    </tr>\n",
       "    <tr>\n",
       "      <th>3</th>\n",
       "      <td>2.5</td>\n",
       "      <td>26.786400</td>\n",
       "    </tr>\n",
       "    <tr>\n",
       "      <th>4</th>\n",
       "      <td>5.9</td>\n",
       "      <td>60.588106</td>\n",
       "    </tr>\n",
       "    <tr>\n",
       "      <th>5</th>\n",
       "      <td>3.8</td>\n",
       "      <td>39.710582</td>\n",
       "    </tr>\n",
       "    <tr>\n",
       "      <th>6</th>\n",
       "      <td>1.9</td>\n",
       "      <td>20.821393</td>\n",
       "    </tr>\n",
       "  </tbody>\n",
       "</table>\n",
       "</div>"
      ],
      "text/plain": [
       "   Study Hours  Predicted Marks\n",
       "0          1.5        16.844722\n",
       "1          3.2        33.745575\n",
       "2          7.4        75.500624\n",
       "3          2.5        26.786400\n",
       "4          5.9        60.588106\n",
       "5          3.8        39.710582\n",
       "6          1.9        20.821393"
      ]
     },
     "execution_count": 10,
     "metadata": {},
     "output_type": "execute_result"
    }
   ],
   "source": [
    "var_prediction_B = var_regression.predict(val_A)\n",
    "Prediction = pd.DataFrame({'Study Hours': [i[0] for i in val_A], 'Predicted Marks': [j for j in var_prediction_B]})\n",
    "Prediction"
   ]
  },
  {
   "cell_type": "markdown",
   "id": "c93213a0",
   "metadata": {},
   "source": [
    "<b> NOW, COMPARING THE PREDICTED MARKS WITH THE ACTUAL MARKS IN THE DATASET. </b>"
   ]
  },
  {
   "cell_type": "code",
   "execution_count": 11,
   "id": "c6fd2155",
   "metadata": {},
   "outputs": [
    {
     "data": {
      "text/html": [
       "<div>\n",
       "<style scoped>\n",
       "    .dataframe tbody tr th:only-of-type {\n",
       "        vertical-align: middle;\n",
       "    }\n",
       "\n",
       "    .dataframe tbody tr th {\n",
       "        vertical-align: top;\n",
       "    }\n",
       "\n",
       "    .dataframe thead th {\n",
       "        text-align: right;\n",
       "    }\n",
       "</style>\n",
       "<table border=\"1\" class=\"dataframe\">\n",
       "  <thead>\n",
       "    <tr style=\"text-align: right;\">\n",
       "      <th></th>\n",
       "      <th>Actual Marks</th>\n",
       "      <th>Predicted Marks</th>\n",
       "    </tr>\n",
       "  </thead>\n",
       "  <tbody>\n",
       "    <tr>\n",
       "      <th>0</th>\n",
       "      <td>20</td>\n",
       "      <td>16.844722</td>\n",
       "    </tr>\n",
       "    <tr>\n",
       "      <th>1</th>\n",
       "      <td>27</td>\n",
       "      <td>33.745575</td>\n",
       "    </tr>\n",
       "    <tr>\n",
       "      <th>2</th>\n",
       "      <td>69</td>\n",
       "      <td>75.500624</td>\n",
       "    </tr>\n",
       "    <tr>\n",
       "      <th>3</th>\n",
       "      <td>30</td>\n",
       "      <td>26.786400</td>\n",
       "    </tr>\n",
       "    <tr>\n",
       "      <th>4</th>\n",
       "      <td>62</td>\n",
       "      <td>60.588106</td>\n",
       "    </tr>\n",
       "    <tr>\n",
       "      <th>5</th>\n",
       "      <td>35</td>\n",
       "      <td>39.710582</td>\n",
       "    </tr>\n",
       "    <tr>\n",
       "      <th>6</th>\n",
       "      <td>24</td>\n",
       "      <td>20.821393</td>\n",
       "    </tr>\n",
       "  </tbody>\n",
       "</table>\n",
       "</div>"
      ],
      "text/plain": [
       "   Actual Marks  Predicted Marks\n",
       "0            20        16.844722\n",
       "1            27        33.745575\n",
       "2            69        75.500624\n",
       "3            30        26.786400\n",
       "4            62        60.588106\n",
       "5            35        39.710582\n",
       "6            24        20.821393"
      ]
     },
     "execution_count": 11,
     "metadata": {},
     "output_type": "execute_result"
    }
   ],
   "source": [
    "comparison_of_scores = pd.DataFrame({'Actual Marks': val_B, 'Predicted Marks': var_prediction_B})\n",
    "comparison_of_scores"
   ]
  },
  {
   "cell_type": "markdown",
   "id": "582346bd",
   "metadata": {},
   "source": [
    "<b> HERE, WE COMPARE THE PREDICTED MARKS WITH THE ACTUAL MARKS USING THE DATA VISUALIZATION </b>"
   ]
  },
  {
   "cell_type": "code",
   "execution_count": 12,
   "id": "661b5bb9",
   "metadata": {},
   "outputs": [
    {
     "data": {
      "image/png": "[encoded data removed]",
      "text/plain": [
       "<Figure size 432x288 with 1 Axes>"
      ]
     },
     "metadata": {},
     "output_type": "display_data"
    }
   ],
   "source": [
    "plt.scatter(x=val_A, y=val_B, color='Red')\n",
    "plt.plot(val_A, var_prediction_B, color='Blue')\n",
    "plt.title('Actual vs Predicted', size=25,color=\"Brown\")\n",
    "plt.ylabel('Percentage of Marks', size=15,color=\"Green\")\n",
    "plt.xlabel('Study Hours', size=15,color=\"Green\")\n",
    "plt.show()"
   ]
  },
  {
   "cell_type": "markdown",
   "id": "17503375",
   "metadata": {},
   "source": [
    "### MODEL EVALUATION"
   ]
  },
  {
   "cell_type": "markdown",
   "id": "8ef8c4d5",
   "metadata": {},
   "source": [
    "<b> LET'S CALCULATE THE ACCURACY OF THE MODEL </b>"
   ]
  },
  {
   "cell_type": "code",
   "execution_count": 13,
   "id": "9a0c8648",
   "metadata": {},
   "outputs": [
    {
     "name": "stdout",
     "output_type": "stream",
     "text": [
      "Mean absolute error:  4.130879918502482\n"
     ]
    }
   ],
   "source": [
    "print('Mean absolute error: ',mean_absolute_error(val_B,var_prediction_B))"
   ]
  },
  {
   "cell_type": "markdown",
   "id": "21182461",
   "metadata": {},
   "source": [
    "<b> As the value of the Mean Absolute Error is very small, it indicates that there are very less possibilities of errors throughout the model.</b>"
   ]
  },
  {
   "cell_type": "markdown",
   "id": "9eafb2bb",
   "metadata": {},
   "source": [
    "<b> NOW MOVING ON TOWARDS OUR QUESTION, LET'S FIND THE ANSWER </b>"
   ]
  },
  {
   "cell_type": "markdown",
   "id": "db444274",
   "metadata": {},
   "source": [
    "## WHAT WILL BE THE PREDICTED SCORE IF A STUDENT STUDIES FOR 9.25 HRS PER DAY?"
   ]
  },
  {
   "cell_type": "code",
   "execution_count": 14,
   "id": "780352ab",
   "metadata": {},
   "outputs": [
    {
     "name": "stdout",
     "output_type": "stream",
     "text": [
      "Score : 93.8927\n"
     ]
    }
   ],
   "source": [
    "hours = [9.25]\n",
    "answer_to_the_question = var_regression.predict([hours])\n",
    "print(\"Score : {}\".format(round(answer_to_the_question[0],4)))"
   ]
  },
  {
   "cell_type": "markdown",
   "id": "8ce09a0d",
   "metadata": {},
   "source": [
    "## According to regression model, if a student studies for 9.25 hours per day then the student is likely to score 93.8927 marks."
   ]
  },
  {
   "cell_type": "code",
   "execution_count": null,
   "id": "033d651c",
   "metadata": {},
   "outputs": [],
   "source": []
  }
 ],
 "metadata": {
  "kernelspec": {
   "display_name": "Python 3",
   "language": "python",
   "name": "python3"
  },
  "language_info": {
   "codemirror_mode": {
    "name": "ipython",
    "version": 3
   },
   "file_extension": ".py",
   "mimetype": "text/x-python",
   "name": "python",
   "nbconvert_exporter": "python",
   "pygments_lexer": "ipython3",
   "version": "3.8.8"
  }
 },
 "nbformat": 4,
 "nbformat_minor": 5
}
